{
 "cells": [
  {
   "cell_type": "markdown",
   "metadata": {
    "deletable": true,
    "editable": true
   },
   "source": [
    "### Numpy arrays\n",
    "\n",
    "Array creation"
   ]
  },
  {
   "cell_type": "code",
   "execution_count": 2,
   "metadata": {
    "collapsed": true,
    "deletable": true,
    "editable": true
   },
   "outputs": [],
   "source": [
    "import numpy as np"
   ]
  },
  {
   "cell_type": "code",
   "execution_count": 111,
   "metadata": {
    "collapsed": false,
    "deletable": true,
    "editable": true
   },
   "outputs": [],
   "source": [
    "a = np.array([1, 2, 3, 4])            \n",
    "b = np.array([[1.,2.,3.,4.],[5.,6.,7.,8.]])   #remember the comma delimiters between 1D arrays\n",
    "c = np.array([[[1,2,3,4],[5,6,7,8]],\n",
    "              [[9,10,11,12],[13,14,15,16]]])"
   ]
  },
  {
   "cell_type": "markdown",
   "metadata": {
    "deletable": true,
    "editable": true
   },
   "source": [
    "Type to find the data structure, shape to find out the rank"
   ]
  },
  {
   "cell_type": "code",
   "execution_count": 31,
   "metadata": {
    "collapsed": false,
    "deletable": true,
    "editable": true
   },
   "outputs": [
    {
     "name": "stdout",
     "output_type": "stream",
     "text": [
      "<class 'numpy.ndarray'> (4,) int64\n",
      "<class 'numpy.ndarray'> (2, 4) float64\n",
      "<class 'numpy.ndarray'> (2, 2, 4) int64\n",
      "\n",
      " [[[ 1  2  3  4]\n",
      "  [ 5  6  7  8]]\n",
      "\n",
      " [[ 9 10 11 12]\n",
      "  [13 14 15 16]]]\n",
      "\n",
      " [[ 9 10 11 12]\n",
      " [13 14 15 16]]\n",
      "\n",
      " [[ 2  6]\n",
      " [10 14]]\n"
     ]
    }
   ],
   "source": [
    "print(type(a), a.shape, a.dtype)\n",
    "\n",
    "print(type(b), b.shape, b.dtype)\n",
    "\n",
    "print(type(c), c.shape, c.dtype) # Note how the z dimension shows up first\n",
    "\n",
    "print(\"\\n\", c)\n",
    "\n",
    "print(\"\\n\", c[1,:,:])\n",
    "\n",
    "print(\"\\n\", c[:,:,1])"
   ]
  },
  {
   "cell_type": "markdown",
   "metadata": {
    "deletable": true,
    "editable": true
   },
   "source": [
    "Other useful array attributes"
   ]
  },
  {
   "cell_type": "code",
   "execution_count": 5,
   "metadata": {
    "collapsed": false,
    "deletable": true,
    "editable": true
   },
   "outputs": [
    {
     "name": "stdout",
     "output_type": "stream",
     "text": [
      "1 4\n",
      "2 8\n",
      "3 16\n"
     ]
    }
   ],
   "source": [
    "print(a.ndim, a.size)\n",
    "print(b.ndim, b.size)\n",
    "print(c.ndim, c.size)"
   ]
  },
  {
   "cell_type": "markdown",
   "metadata": {
    "deletable": true,
    "editable": true
   },
   "source": [
    "Other ways of creating arrays"
   ]
  },
  {
   "cell_type": "code",
   "execution_count": 6,
   "metadata": {
    "collapsed": false,
    "deletable": true,
    "editable": true
   },
   "outputs": [
    {
     "name": "stdout",
     "output_type": "stream",
     "text": [
      "[[ 0.  0.]\n",
      " [ 0.  0.]\n",
      " [ 0.  0.]] \n",
      "\n",
      "[[ 1.  1.  1.  1.]\n",
      " [ 1.  1.  1.  1.]] \n",
      "\n",
      "[[ 0.  0.  0.  0.]\n",
      " [ 0.  0.  0.  0.]] \n",
      "\n",
      "[[ 0.22442023  0.85840773  0.62110909]\n",
      " [ 0.19705851  0.37639728  0.27102779]\n",
      " [ 0.51487417  0.79111208  0.36779638]] \n",
      "\n",
      "<class 'numpy.ndarray'> (12,) [ 0  1  2  3  4  5  6  7  8  9 10 11] \n",
      "\n",
      "<class 'numpy.ndarray'> (13,) [  0.           0.91666667   1.83333333   2.75         3.66666667\n",
      "   4.58333333   5.5          6.41666667   7.33333333   8.25         9.16666667\n",
      "  10.08333333  11.        ] \n",
      "\n"
     ]
    }
   ],
   "source": [
    "arrj = np.zeros((3,2))\n",
    "print(arrj, \"\\n\")\n",
    "\n",
    "arrk = np.ones((2,4))\n",
    "print(arrk, \"\\n\")\n",
    "\n",
    "arrl = np.zeros_like(arrk)\n",
    "print(arrl, \"\\n\")\n",
    "\n",
    "arrm = np.random.random((3,3))\n",
    "print(arrm, \"\\n\")\n",
    "\n",
    "arrm = np.arange(12)  #takes scalar argument and returns an 1D - array\n",
    "print(type(arrm), arrm.shape, arrm, \"\\n\")\n",
    "\n",
    "# use linspace instead of arange this to clearly specify no. of points you want \n",
    "arrn = np.linspace(0,11,13) #linspace(start_no, stop_no, No.of points)\n",
    "print(type(arrn), arrn.shape, arrn, \"\\n\")"
   ]
  },
  {
   "cell_type": "code",
   "execution_count": 7,
   "metadata": {
    "collapsed": false,
    "deletable": true,
    "editable": true
   },
   "outputs": [
    {
     "name": "stdout",
     "output_type": "stream",
     "text": [
      "[ 0  1  2  3  4  5  6  7  8  9 10 11]\n",
      "\n",
      " [ 0  1  2  3  4  5  6  7  8  9 10 11]\n"
     ]
    }
   ],
   "source": [
    "# easy to change datatypes by using the astype function on the array\n",
    "print(arrm)\n",
    "\n",
    "arrm.astype(float)\n",
    "\n",
    "print(\"\\n\", arrm)\n"
   ]
  },
  {
   "cell_type": "markdown",
   "metadata": {
    "deletable": true,
    "editable": true
   },
   "source": [
    "All arithmetic and comparison operations on arrays in numpy are elemenwise operations, not matrix operations"
   ]
  },
  {
   "cell_type": "code",
   "execution_count": 8,
   "metadata": {
    "collapsed": false,
    "deletable": true,
    "editable": true
   },
   "outputs": [],
   "source": [
    "d = np.array([[1,1,1,1],[2,2,2,2]])"
   ]
  },
  {
   "cell_type": "code",
   "execution_count": 9,
   "metadata": {
    "collapsed": false,
    "deletable": true,
    "editable": true
   },
   "outputs": [
    {
     "name": "stdout",
     "output_type": "stream",
     "text": [
      "[[  2.   3.   4.   5.]\n",
      " [  7.   8.   9.  10.]]\n"
     ]
    }
   ],
   "source": [
    "print(b + d)   # Note element wise addition and automatic data type conversion "
   ]
  },
  {
   "cell_type": "code",
   "execution_count": 10,
   "metadata": {
    "collapsed": false,
    "deletable": true,
    "editable": true
   },
   "outputs": [
    {
     "name": "stdout",
     "output_type": "stream",
     "text": [
      "[[  1.   2.   3.   4.]\n",
      " [ 10.  12.  14.  16.]]\n"
     ]
    }
   ],
   "source": [
    "print(b * d)  #Element wise multiplication, not matrix multiplication - For matrix multiplication, use the dot operator"
   ]
  },
  {
   "cell_type": "code",
   "execution_count": 11,
   "metadata": {
    "collapsed": false,
    "deletable": true,
    "editable": true
   },
   "outputs": [
    {
     "name": "stdout",
     "output_type": "stream",
     "text": [
      "[[ 1.  2.  3.  4.]\n",
      " [ 5.  6.  7.  8.]] \n",
      "\n",
      " [[1 1 1 1]\n",
      " [2 2 2 2]]\n",
      "\n",
      " [[False False False  True]\n",
      " [ True  True  True  True]]\n"
     ]
    }
   ],
   "source": [
    "print(b,\"\\n\\n\",d)\n",
    "print(\"\\n\",b > (d+2))"
   ]
  },
  {
   "cell_type": "code",
   "execution_count": 12,
   "metadata": {
    "collapsed": false,
    "deletable": true,
    "editable": true
   },
   "outputs": [
    {
     "name": "stdout",
     "output_type": "stream",
     "text": [
      "[ 4.  5.  6.  7.  8.] (5,)\n"
     ]
    }
   ],
   "source": [
    "print(b[b > (d+2)], b[b > (d+2)].shape)  # Note shape of the original array is not preserved, you get a 1D array "
   ]
  },
  {
   "cell_type": "markdown",
   "metadata": {},
   "source": [
    "### Reshaping arrays"
   ]
  },
  {
   "cell_type": "code",
   "execution_count": 13,
   "metadata": {
    "collapsed": false,
    "deletable": true,
    "editable": true
   },
   "outputs": [
    {
     "name": "stdout",
     "output_type": "stream",
     "text": [
      "<class 'numpy.ndarray'> (8,) [1 1 1 1 2 2 2 2]\n"
     ]
    }
   ],
   "source": [
    "x = np.ravel(d)               #If you want to flatten the array into a 1D array\n",
    "print(type(x), x.shape, x)"
   ]
  },
  {
   "cell_type": "code",
   "execution_count": 14,
   "metadata": {
    "collapsed": false,
    "deletable": true,
    "editable": true
   },
   "outputs": [
    {
     "name": "stdout",
     "output_type": "stream",
     "text": [
      "[1 1 1 1 2 2 2 2] \n",
      "\n",
      " [[[1 1]\n",
      "  [1 1]]\n",
      "\n",
      " [[2 2]\n",
      "  [2 2]]]\n",
      "\n",
      "\n",
      " [1 1 1 1 2 2 2 2] \n",
      "\n",
      " [[1 1 1 1]\n",
      " [2 2 2 2]]\n"
     ]
    }
   ],
   "source": [
    "m = np.reshape(x,(2,2,2))\n",
    "print(x,\"\\n\\n\", m)\n",
    "n = np.resize(x, (2,4))\n",
    "print(\"\\n\\n\",x,\"\\n\\n\", n)\n",
    "# So what is the difference between both of these funtions"
   ]
  },
  {
   "cell_type": "code",
   "execution_count": 15,
   "metadata": {
    "collapsed": false,
    "deletable": true,
    "editable": true
   },
   "outputs": [
    {
     "name": "stdout",
     "output_type": "stream",
     "text": [
      "[1 1 1 1 2 2 2 2]\n",
      "\n",
      " [1 1 1 1 2 2 2 2] \n",
      "\n",
      " [[[1 1 1 1]]\n",
      "\n",
      " [[2 2 2 2]]]\n",
      "\n",
      "\n",
      " [1 1 1 1 2 2 2 2]\n",
      "\n",
      "\n",
      " [[1 1]\n",
      " [1 1]\n",
      " [2 2]\n",
      " [2 2]] \n",
      "\n",
      " None\n"
     ]
    }
   ],
   "source": [
    "## Difference - reshape makes a copy and reshapes whereas resize does it in-place (note that n is none)\n",
    "print(x)\n",
    "m = x.reshape((2,1,4))\n",
    "print (\"\\n\",x,\"\\n\\n\", m)\n",
    "\n",
    "print(\"\\n\\n\",x)\n",
    "n = x.resize((4,2))\n",
    "print(\"\\n\\n\",x,\"\\n\\n\", n)\n"
   ]
  },
  {
   "cell_type": "code",
   "execution_count": 135,
   "metadata": {
    "collapsed": false
   },
   "outputs": [
    {
     "name": "stdout",
     "output_type": "stream",
     "text": [
      "(1, 2, 2)\n",
      "\n",
      "\n",
      "[[[1 2]\n",
      "  [2 3]]]\n",
      "\n",
      "\n",
      "(2, 2)\n",
      "\n",
      "\n",
      "[[1 2]\n",
      " [2 3]]\n",
      "\n",
      "\n",
      "(1, 2, 2)\n",
      "\n",
      "\n",
      "[[[1 2]\n",
      "  [2 3]]]\n",
      "\n",
      "\n"
     ]
    }
   ],
   "source": [
    "## most indexing reduces shape of the array, we can reduce or increase the dimensions of the array as follows\n",
    "\n",
    "temp = np.array([[[1,2],[2,3]]])\n",
    "\n",
    "print(temp.shape)\n",
    "print('\\n')\n",
    "print(temp)\n",
    "print('\\n')\n",
    "\n",
    "temp = np.squeeze(temp)\n",
    "\n",
    "print(temp.shape)\n",
    "print('\\n')\n",
    "print(temp)\n",
    "print('\\n')\n",
    "\n",
    "temp = np.expand_dims(temp,0)\n",
    "print(temp.shape)\n",
    "print('\\n')\n",
    "print(temp)\n",
    "print('\\n')"
   ]
  },
  {
   "cell_type": "markdown",
   "metadata": {
    "collapsed": true,
    "deletable": true,
    "editable": true
   },
   "source": [
    "### Slicing & Indexing"
   ]
  },
  {
   "cell_type": "code",
   "execution_count": 34,
   "metadata": {
    "collapsed": false
   },
   "outputs": [
    {
     "name": "stdout",
     "output_type": "stream",
     "text": [
      "[[ 1.  2.  3.  4.]\n",
      " [ 5.  6.  7.  8.]] (2, 4)\n",
      "\n",
      " [ 2.  6.]\n",
      "\n",
      " [ 5.  6.  7.  8.]\n",
      "\n",
      " [ 5.  6.  7.  8.] (4,)\n"
     ]
    }
   ],
   "source": [
    "b = np.array([[1.,2.,3.,4.],[5.,6.,7.,8.]])\n",
    "\n",
    "print(b, b.shape)\n",
    "\n",
    "print(\"\\n\",b[:,1])\n",
    "print(\"\\n\",b[1,:])\n",
    "\n",
    "c = b[1,:]\n",
    "\n",
    "print(\"\\n\", c, c.shape)  #Note that slicing reduces the array dimensions\n"
   ]
  },
  {
   "cell_type": "code",
   "execution_count": 36,
   "metadata": {
    "collapsed": false
   },
   "outputs": [
    {
     "name": "stdout",
     "output_type": "stream",
     "text": [
      "\n",
      " [   5.  666.    7.    8.] (4,)\n",
      "\n",
      " [[   1.    2.    3.    4.]\n",
      " [   5.  666.    7.    8.]] (2, 4)\n"
     ]
    }
   ],
   "source": [
    "c[1] = 666\n",
    "print(\"\\n\", c, c.shape)\n",
    "\n",
    "print(\"\\n\", b, b.shape)   #### Modifying slice modifies the original array too"
   ]
  },
  {
   "cell_type": "code",
   "execution_count": 43,
   "metadata": {
    "collapsed": false
   },
   "outputs": [
    {
     "name": "stdout",
     "output_type": "stream",
     "text": [
      "[[ 1.  2.  3.  4.]\n",
      " [ 5.  6.  7.  8.]] (2, 4)\n",
      "\n",
      " [ 2.  6.]\n",
      "\n",
      " [ 5.  6.  7.  8.]\n",
      "\n",
      " [[   1.    2.    3.    4.]\n",
      " [   5.    6.  888.    8.]] (2, 4)\n",
      "\n",
      " [[   1.    2.    3.    4.]\n",
      " [   5.    6.  888.    8.]] (2, 4)\n",
      "\n",
      " [[    1.     2.     3.     4.]\n",
      " [    5.     6.   888.  1000.]] (2, 4)\n",
      "\n",
      " [[   1.    2.    3.    4.]\n",
      " [   5.    6.  888.    8.]] (2, 4)\n"
     ]
    }
   ],
   "source": [
    "## You have to make a copy to avoid slicing to not overwrite the original\n",
    "## Note that explicit copy, not \n",
    "\n",
    "b = np.array([[1.,2.,3.,4.],[5.,6.,7.,8.]])\n",
    "\n",
    "print(b, b.shape)\n",
    "\n",
    "print(\"\\n\",b[:,1])\n",
    "print(\"\\n\",b[1,:])\n",
    "\n",
    "c = b  ### This is not a copy, changes in C are reflected in source array b\n",
    "\n",
    "c[1,2] = 888\n",
    "print(\"\\n\", c, c.shape)  #Note that slicing reduces the array dimensions\n",
    "print(\"\\n\", b, b.shape)\n",
    "\n",
    "\n",
    "## Copy of the original array needs to be made explicity with copy function\n",
    "\n",
    "d = np.copy(b)\n",
    "\n",
    "d[1,3] = 1000             #Change does not reflect in source array b\n",
    "print(\"\\n\", d, d.shape)  \n",
    "print(\"\\n\", b, b.shape)"
   ]
  },
  {
   "cell_type": "code",
   "execution_count": 65,
   "metadata": {
    "collapsed": false
   },
   "outputs": [
    {
     "name": "stdout",
     "output_type": "stream",
     "text": [
      "[[    1.     2.     3.     4.]\n",
      " [    5.     6.   888.  1000.]]\n",
      "\n",
      "\n",
      "[    4.  1000.]\n",
      "\n",
      "\n",
      "[[ 2.]\n",
      " [ 6.]]\n",
      "\n",
      "\n",
      "[[   1.    2.    3.]\n",
      " [   5.    6.  888.]]\n",
      "\n",
      "\n",
      "[[1 2]\n",
      " [2 3]\n",
      " [3 4]]\n",
      "\n",
      "\n",
      "[[2 1]\n",
      " [3 2]\n",
      " [4 3]]\n",
      "\n",
      "\n",
      "[[3 4]\n",
      " [2 3]\n",
      " [1 2]]\n"
     ]
    }
   ],
   "source": [
    "print(d)\n",
    "print (\"\\n\")\n",
    "\n",
    "print(d[:,-1])  # -1 refers to the last index\n",
    "print(\"\\n\")\n",
    "\n",
    "## slicing allows to select ranges for each index\n",
    "\n",
    "print(d[:,1:2])\n",
    "print(\"\\n\")\n",
    "\n",
    "print(d[:,:-1]) # :-1 is the same as 0:-1 starting index to last index (exclusive)\n",
    "print(\"\\n\")\n",
    "\n",
    "orig = np.array([[1,2], [2,3],[3,4]])\n",
    "\n",
    "print(orig)\n",
    "print(\"\\n\")\n",
    "print(orig[:,::-1]) # reverses the 2D array along the second dimension\n",
    "\n",
    "print(\"\\n\")\n",
    "print(orig[::-1,:]) # reverses the 2D array along the first dimension\n",
    "\n",
    "## Note that images can be converted from RGB to BGR by flipping the third dimension. for ex. arr[:,:,::-1] "
   ]
  },
  {
   "cell_type": "markdown",
   "metadata": {},
   "source": [
    "### Indexing in arrays"
   ]
  },
  {
   "cell_type": "code",
   "execution_count": 106,
   "metadata": {
    "collapsed": false
   },
   "outputs": [
    {
     "name": "stdout",
     "output_type": "stream",
     "text": [
      "[[ 0  1  2  3  4]\n",
      " [ 5  6  7  8  9]\n",
      " [10 11 12 13 14]]\n",
      "\n",
      "\n",
      "[[ 0  1  2  3  4]\n",
      " [ 5  6  7  8  9]\n",
      " [10 11 12 13 14]]\n",
      "\n",
      "\n",
      "[[ True False  True False  True]\n",
      " [False  True False  True False]\n",
      " [ True False  True False  True]]\n",
      "\n",
      "\n",
      "[0 0 0 1 1 2 2 2] [0 2 4 1 3 0 2 4]\n",
      "\n",
      "\n",
      "[[-1  1 -1  3 -1]\n",
      " [ 5 -1  7 -1  9]\n",
      " [-1 11 -1 13 -1]]\n",
      "\n",
      "\n"
     ]
    }
   ],
   "source": [
    "a = np.arange(15).reshape(3,5)\n",
    "\n",
    "print(a)\n",
    "print('\\n')\n",
    "\n",
    "print(a)\n",
    "print(\"\\n\")\n",
    "\n",
    "## find the indices of elements which is an even number\n",
    "print((a%2 == 0))\n",
    "a_val = ((a%2)==0).nonzero()\n",
    "print(\"\\n\")\n",
    "print(a_val[0], a_val[1])\n",
    "print(\"\\n\")\n",
    "\n",
    "## find the indices of elements which is an even number and assign them to a value of -1\n",
    "a[a%2 == 0] = -1\n",
    "print(a)\n",
    "print(\"\\n\")"
   ]
  },
  {
   "cell_type": "markdown",
   "metadata": {},
   "source": [
    "### Python"
   ]
  },
  {
   "cell_type": "code",
   "execution_count": 107,
   "metadata": {
    "collapsed": false
   },
   "outputs": [
    {
     "name": "stdout",
     "output_type": "stream",
     "text": [
      "Count 0, Word is apple\n",
      "Count 1, Word is boy\n",
      "Count 2, Word is cat\n",
      "Count 3, Word is dog\n"
     ]
    }
   ],
   "source": [
    "#enumerate - lets you get count and the actual element at the same time\n",
    "a = ['apple', 'boy', 'cat', 'dog']\n",
    "\n",
    "for i, word in enumerate(a):\n",
    "    print(\"Count %d, Word is %s\"%(i,word)) "
   ]
  },
  {
   "cell_type": "code",
   "execution_count": 108,
   "metadata": {
    "collapsed": false
   },
   "outputs": [
    {
     "name": "stdout",
     "output_type": "stream",
     "text": [
      "(1, 10) 1 10\n",
      "(4, 11) 4 11\n",
      "(6, 12) 6 12\n",
      "(9, 13) 9 13\n"
     ]
    }
   ],
   "source": [
    "## Zip - If you do not want to iterate through all combinations of lists, but only through equivalent locations \n",
    "x = [1, 4, 6, 9]\n",
    "y = [10, 11, 12, 13]\n",
    "\n",
    "for i in zip(x,y):\n",
    "    print(i, i[0], i[1])"
   ]
  }
 ],
 "metadata": {
  "kernelspec": {
   "display_name": "Python 3",
   "language": "python",
   "name": "python3"
  },
  "language_info": {
   "codemirror_mode": {
    "name": "ipython",
    "version": 3
   },
   "file_extension": ".py",
   "mimetype": "text/x-python",
   "name": "python",
   "nbconvert_exporter": "python",
   "pygments_lexer": "ipython3",
   "version": "3.5.2"
  }
 },
 "nbformat": 4,
 "nbformat_minor": 2
}
